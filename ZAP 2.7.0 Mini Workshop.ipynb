{
 "cells": [
  {
   "cell_type": "markdown",
   "metadata": {},
   "source": [
    "## OWASP ZAP Mini Workshop - ZAPv2.7.0\n",
    "\n",
    "#### Abhay Bhargav - we45\n",
    "\n",
    "#### Objective\n",
    "Over the last 2 years, I have worked with and implemented several SAST and DAST tools as part of a Continuous Delivery Pipeline. In this time, I have seen that there are few tools that match the flexibility and capabilities of OWASP's Zed Attack Proxy, especially from the perspective of integrating into a Continuous Delivery Pipeline. \n",
    "\n",
    "As part of training programs that I have delivered at OWASP AppSecUSA, EU and DEFCON, I have trained several folks on OWASP ZAP's API and Scripting features. This is a shorter version of the same training program that I have delivered in these places. \n",
    "\n",
    "The objective of this is as follows: \n",
    "- To get someone quickly up and running with ZAP and its feature-rich API and Scripting Features\n",
    "- To NOT use presentations. It takes FOREVER prepping presentation. Writing everything in Markdown and Python is far easier\n",
    "- To cover essential functionality that I think would be useful to folks. I am sure I will be missing some cool features here. Please bear with me\n",
    "- To reference some other useful tools and libraries that I have been working with, either ZAP related or otherwise. \n",
    "\n",
    "#### Requirements\n",
    "- Python 3.6.1\n",
    "- Please install all requirements from `requirements.txt`. This includes ZAP's Python API\n",
    "- Download and Install ZAP 2.7.0 (Download from https://github.com/zaproxy/zaproxy/wiki/Downloads)\n",
    "\n",
    "#### Warnings\n",
    "This code is given to you as is, where is. I don't take any responsibility for how/where you use it. This is NOT production ready in any way.\n",
    "\n",
    "#### Thanks\n",
    "- I would like to thank Simon Bennetts (@psiinon) and the rest of the OWASP ZAP Development Team. They do a truly admirable job of maintaining and managing ZAP for all of us. \n",
    "- I would like to thank a few members of my amazing team! - Nithin, Sharath and Tilak. Thanks for all that you do\n",
    "\n",
    "#### Other Useful Projects\n",
    "- ZAP Robot Framework Integration - https://bitbucket.org/we45abhay/robozap\n",
    "- Vulnerable App used in this exercise - https://bitbucket.org/we45abhay/defcon_vul_app/\n",
    "\n",
    "###### Let's get started.....\n"
   ]
  },
  {
   "cell_type": "markdown",
   "metadata": {},
   "source": [
    "### Pre-start Setup Instructions\n",
    "\n",
    "- Download and Install ZAP\n",
    "- Install some plugins from the ZAP Marketplace, namely: \n",
    "    - Python Scripting\n",
    "    - Export Report\n",
    "- You may choose to install several other plugins. However, for this training, you only need these plugins\n",
    "- Open ZAP > Tools > Options > API \n",
    "    - Make sure that it's enabled, for UI as well\n",
    "    ![ZAP API Screen](images/api_zap.jpg)\n",
    "    - I have disabled API key in this case. You can enable if you would like. However, remember that you need the API Key for every call to ZAP's API if you enable the API Key.\n",
    "    "
   ]
  },
  {
   "cell_type": "markdown",
   "metadata": {},
   "source": [
    "### ZAP 2.7.0 API\n",
    "\n",
    "If you enable the UI Option in ZAP's API Options screen (as done above), you will have access to ZAP's API directly over the browser. You will typically have ZAP running on port 8080 of your localhost. In my case, I have it running on port 8090\n",
    "\n",
    "The API is available only when you have started ZAP. \n",
    "\n",
    "![ZAP API Screen](images/api_screen.jpg)\n",
    "\n",
    "Very soon, we are going to start zap using ZAP's CLI and get it up and running. This is very useful when you want to start ZAP without using the UI. "
   ]
  },
  {
   "cell_type": "code",
   "execution_count": 1,
   "metadata": {},
   "outputs": [],
   "source": [
    "# we will be using python's subprocess to start ZAP in GUI and headless modes\n",
    "\n",
    "import subprocess\n",
    "import os\n",
    "from IPython.display import display\n",
    "import time\n",
    "\n",
    "#GUI ZAP\n",
    "base_path = '/root/zap/ZAP_2.7.0/'\n",
    "# gui_command = base_path + 'zap.sh -config api.disablekey=true -port 8090'\n",
    "# you can use the config param to specify set specific configurations you need when you launch the CLI.\n",
    "# In this case, I am (actually don't need to) starting ZAP with the API Key disabled and listening port 8090\n",
    "\n",
    "headless_command = base_path + 'zap.sh -daemon -config api.disablekey=true -port 8090'\n",
    "#by specifying 'daemon' in the CLI, ZAP starts in Headless mode\n",
    "\n",
    "zap_process = subprocess.Popen(headless_command.split(' '), stdout = open(os.devnull, 'w'))\n",
    "time.sleep(30)\n",
    "print(\"[ * ] ZAP is now running on port 8090\")"
   ]
  },
  {
   "cell_type": "markdown",
   "metadata": {},
   "source": [
    "If you have run the code above correctly, you should see that ZAP is now running in Daemon Mode. We will be using Daemon Mode for this workshop, so you can easily see everything going on within ZAP.\n",
    "\n",
    "Now that we have ZAP running, let's use its API to perform some scans. I will be using it's Python API to perform this. However, ZAP can be used with Java, JavaScript, PHP, Ruby and directly as a REST API\n",
    "\n",
    "##### Links: \n",
    "- NPM: https://www.npmjs.com/package/zaproxy\n",
    "- Java: https://github.com/zaproxy/zaproxy/releases\n",
    "- Ruby: https://github.com/vpereira/owasp_zap\n",
    "\n",
    "Let's start with running the spider against intentionally vulnerable site `demo.testfire.net`"
   ]
  },
  {
   "cell_type": "code",
   "execution_count": 2,
   "metadata": {},
   "outputs": [],
   "source": [
    "from zapv2 import ZAPv2 as ZAP #import ZAP library\n",
    "import time\n",
    "\n",
    "zap = ZAP(proxies = {'http': 'http://localhost:8090', 'https': 'http://localhost:8090'})\n",
    "print(\"[ * ] ZAP Proxy is been initiated\")\n",
    "#setting the local ZAP instance that is open on your local system"
   ]
  },
  {
   "cell_type": "code",
   "execution_count": 4,
   "metadata": {},
   "outputs": [
    {
     "name": "stdout",
     "output_type": "stream",
     "text": [
      "Spider ID for the initiated spider scan is: 1\n",
      "Current Status of ZAP Spider: 0%\n",
      "Current Status of ZAP Spider: 61%\n",
      "Current Status of ZAP Spider: 100%\n"
     ]
    }
   ],
   "source": [
    "target_site = 'http://demo.testfire.net'\n",
    "\n",
    "zap.urlopen(target_site)\n",
    "#opens up the the target site. Makes a single GET request\n",
    "\n",
    "spider_id = zap.spider.scan(target_site)\n",
    "#this line of code kicks off the ZAP Default Spider. This returns an ID value for the spider\n",
    "\n",
    "print(\"Spider ID for the initiated spider scan is: {0}\".format(spider_id))\n",
    "\n",
    "\n",
    "#now we can start monitoring the spider's status\n",
    "while int(zap.spider.status(spider_id)) < 100:\n",
    "    print(\"Current Status of ZAP Spider: {0}%\".format(zap.spider.status(spider_id)))\n",
    "    time.sleep(4)\n",
    "print(\"Current Status of ZAP Spider: {0}%\".format(100))    "
   ]
  },
  {
   "cell_type": "markdown",
   "metadata": {},
   "source": [
    "If everything went well, you should see that the spider ran successfully, and identified a bunch of in-scope and Out of scope URLs and params. \n",
    "\n",
    "Before we proceed with scans and other \"vulnerability discovery\" activities. Let's get some information about the target site from ZAP's API\n",
    "\n",
    "#### Enumerating the Target Site\n",
    "\n",
    "##### Information about the app's content - List of URLs"
   ]
  },
  {
   "cell_type": "code",
   "execution_count": 5,
   "metadata": {},
   "outputs": [
    {
     "data": {
      "text/plain": [
       "['http://demo.testfire.net',\n",
       " 'http://demo.testfire.net/admin',\n",
       " 'http://demo.testfire.net/admin/clients.xls',\n",
       " 'http://demo.testfire.net/admin',\n",
       " 'http://demo.testfire.net/cgi.exe',\n",
       " 'http://demo.testfire.net/default.jsp',\n",
       " 'http://demo.testfire.net/default.jsp?content=security.htm',\n",
       " 'http://demo.testfire.net/disclaimer.htm?url=http://www.netscape.com',\n",
       " 'http://demo.testfire.net/Documents',\n",
       " 'http://demo.testfire.net/Documents/cgi.exe']"
      ]
     },
     "execution_count": 5,
     "metadata": {},
     "output_type": "execute_result"
    }
   ],
   "source": [
    "#fetch list of urls enumerated by ZAP\n",
    "zap.core.urls()[:10]\n",
    "#fetch upto 10 results (to fit on screen). You can remove the \"[:10]\" to fetch all results"
   ]
  },
  {
   "cell_type": "markdown",
   "metadata": {},
   "source": [
    "Let's fetch some content types from the site with ZAP's API"
   ]
  },
  {
   "cell_type": "code",
   "execution_count": 6,
   "metadata": {
    "scrolled": true
   },
   "outputs": [
    {
     "data": {
      "text/plain": [
       "[{'stats.code.200': 205,\n",
       "  'stats.code.302': 12,\n",
       "  'stats.code.404': 273,\n",
       "  'stats.code.405': 3,\n",
       "  'stats.contentType.application/javascript': 5,\n",
       "  'stats.contentType.application/pdf': 3,\n",
       "  'stats.contentType.image/gif': 15,\n",
       "  'stats.contentType.image/jpeg': 49,\n",
       "  'stats.contentType.image/png': 5,\n",
       "  'stats.contentType.text/css': 5,\n",
       "  'stats.contentType.text/html': 11,\n",
       "  'stats.contentType.text/html;charset=ISO-8859-1': 391,\n",
       "  'stats.contentType.text/html;charset=utf-8': 3,\n",
       "  'stats.responseTime.128': 10,\n",
       "  'stats.responseTime.256': 5,\n",
       "  'stats.responseTime.64': 477,\n",
       "  'stats.tag.Comment': 427,\n",
       "  'stats.tag.Form': 393,\n",
       "  'stats.tag.Hidden': 3,\n",
       "  'stats.tag.Object': 3,\n",
       "  'stats.tag.Password': 5,\n",
       "  'stats.tag.Script': 35,\n",
       "  'stats.tag.SetCookie': 7,\n",
       "  'stats.tag.Upload': 3}]"
      ]
     },
     "metadata": {},
     "output_type": "display_data"
    }
   ],
   "source": [
    "display(zap.stats.site_stats(site = target_site)[:10])\n",
    "#fetch upto 10 results (to fit on screen). You can remove the \"[:10]\" to fetch all results"
   ]
  },
  {
   "cell_type": "markdown",
   "metadata": {},
   "source": [
    "ZAP has a very useful list of params tested in the application. This can be accessed as follows...."
   ]
  },
  {
   "cell_type": "code",
   "execution_count": 7,
   "metadata": {},
   "outputs": [
    {
     "data": {
      "text/plain": [
       "[{'site': 'demo.testfire.net:80',\n",
       "  'name': 'JSESSIONID',\n",
       "  'timesUsed': '489',\n",
       "  'type': 'cookie'},\n",
       " {'Flags': ['session', 'Path=/', 'HttpOnly']},\n",
       " {'Values': ['28EDE9F158C75D4F952BF0482BAA18F4',\n",
       "   '734EA16238EBA2F9CAC112A87DADF7E9',\n",
       "   '6B62B82C68AC837BC20E96BBDA8BFF4F',\n",
       "   'BB2ED03803CBD8AA2A2B888B1DEE31A2',\n",
       "   '80D7AE6B57470B4C8340475238BEFFDD',\n",
       "   '3C4A46B8E1AA524AD8AC5BE652188A4F']},\n",
       " {'site': 'demo.testfire.net:80',\n",
       "  'name': 'sec',\n",
       "  'timesUsed': '2',\n",
       "  'type': 'url'},\n",
       " {'Values': ['Careers']}]"
      ]
     },
     "execution_count": 7,
     "metadata": {},
     "output_type": "execute_result"
    }
   ],
   "source": [
    "zap.params.params()[0]['Parameter'][:5]\n",
    "#fetch upto 5 results (to fit on screen). You can remove the \"[0]['Parameter'][:5]\" to fetch all results"
   ]
  },
  {
   "cell_type": "markdown",
   "metadata": {},
   "source": [
    "Now, I am not sure if you noticed, but ZAP automatically starts gathering some details about vulnerabilities in the site using its `Passive Scan` Feature. This is very useful to silently enumerate vulnerabilites related to HTTP Headers, Session Tokens, etc without actually firing attack packets at the target.\n",
    "\n",
    "#### Let's look at the stuf that ZAP Scans for passively..."
   ]
  },
  {
   "cell_type": "code",
   "execution_count": 8,
   "metadata": {},
   "outputs": [
    {
     "data": {
      "text/plain": [
       "[{'alertThreshold': 'DEFAULT',\n",
       "  'name': 'Script Passive Scan Rules',\n",
       "  'id': '50001',\n",
       "  'enabled': 'true',\n",
       "  'quality': 'release'},\n",
       " {'alertThreshold': 'DEFAULT',\n",
       "  'name': 'Stats Passive Scan Rule',\n",
       "  'id': '50003',\n",
       "  'enabled': 'true',\n",
       "  'quality': 'release'},\n",
       " {'alertThreshold': 'DEFAULT',\n",
       "  'name': 'Application Error Disclosure',\n",
       "  'id': '90022',\n",
       "  'enabled': 'true',\n",
       "  'quality': 'release'},\n",
       " {'alertThreshold': 'DEFAULT',\n",
       "  'name': 'Incomplete or No Cache-control and Pragma HTTP Header Set',\n",
       "  'id': '10015',\n",
       "  'enabled': 'true',\n",
       "  'quality': 'release'},\n",
       " {'alertThreshold': 'DEFAULT',\n",
       "  'name': 'Content-Type Header Missing',\n",
       "  'id': '10019',\n",
       "  'enabled': 'true',\n",
       "  'quality': 'release'}]"
      ]
     },
     "metadata": {},
     "output_type": "display_data"
    }
   ],
   "source": [
    "display(zap.pscan.scanners[0:5])\n",
    "#fetch upto 5 results (to fit on screen). You can remove the \"[0:5]\" to fetch all results"
   ]
  },
  {
   "cell_type": "markdown",
   "metadata": {},
   "source": [
    "As you can see from the above output, some of these are enabled and some are disabled. The number of findings from the Passive Scan are correlated with the number of URls that are crawled by ZAP. Before we go deep into vulnerability scanning, you can actually see the existing vulnerabilities that have been identified by ZAP with this..."
   ]
  },
  {
   "cell_type": "code",
   "execution_count": 9,
   "metadata": {},
   "outputs": [
    {
     "data": {
      "text/plain": [
       "[{'sourceid': '3',\n",
       "  'other': \"The X-XSS-Protection HTTP response header allows the web server to enable or disable the web browser's XSS protection mechanism. The following values would attempt to enable it: \\nX-XSS-Protection: 1; mode=block\\nX-XSS-Protection: 1; report=http://www.example.com/xss\\nThe following values would disable it:\\nX-XSS-Protection: 0\\nThe X-XSS-Protection HTTP response header is currently supported on Internet Explorer, Chrome and Safari (WebKit).\\nNote that this alert is only raised if the response body could potentially contain an XSS payload (with a text-based content type, with a non-zero length).\",\n",
       "  'method': 'GET',\n",
       "  'evidence': '',\n",
       "  'pluginId': '10016',\n",
       "  'cweid': '933',\n",
       "  'confidence': 'Medium',\n",
       "  'wascid': '14',\n",
       "  'description': \"Web Browser XSS Protection is not enabled, or is disabled by the configuration of the 'X-XSS-Protection' HTTP response header on the web server\",\n",
       "  'messageId': '1',\n",
       "  'url': 'http://demo.testfire.net/',\n",
       "  'reference': 'https://www.owasp.org/index.php/XSS_(Cross_Site_Scripting)_Prevention_Cheat_Sheet\\nhttps://blog.veracode.com/2014/03/guidelines-for-setting-security-headers/',\n",
       "  'solution': \"Ensure that the web browser's XSS filter is enabled, by setting the X-XSS-Protection HTTP response header to '1'.\",\n",
       "  'alert': 'Web Browser XSS Protection Not Enabled',\n",
       "  'param': 'X-XSS-Protection',\n",
       "  'attack': '',\n",
       "  'name': 'Web Browser XSS Protection Not Enabled',\n",
       "  'risk': 'Low',\n",
       "  'id': '0'},\n",
       " {'sourceid': '3',\n",
       "  'other': 'This issue still applies to error type pages (401, 403, 500, etc) as those pages are often still affected by injection issues, in which case there is still concern for browsers sniffing pages away from their actual content type.\\nAt \"High\" threshold this scanner will not alert on client or server error responses.',\n",
       "  'method': 'GET',\n",
       "  'evidence': '',\n",
       "  'pluginId': '10021',\n",
       "  'cweid': '16',\n",
       "  'confidence': 'Medium',\n",
       "  'wascid': '15',\n",
       "  'description': \"The Anti-MIME-Sniffing header X-Content-Type-Options was not set to 'nosniff'. This allows older versions of Internet Explorer and Chrome to perform MIME-sniffing on the response body, potentially causing the response body to be interpreted and displayed as a content type other than the declared content type. Current (early 2014) and legacy versions of Firefox will use the declared content type (if one is set), rather than performing MIME-sniffing.\",\n",
       "  'messageId': '1',\n",
       "  'url': 'http://demo.testfire.net/',\n",
       "  'reference': 'http://msdn.microsoft.com/en-us/library/ie/gg622941%28v=vs.85%29.aspx\\nhttps://www.owasp.org/index.php/List_of_useful_HTTP_headers',\n",
       "  'solution': \"Ensure that the application/web server sets the Content-Type header appropriately, and that it sets the X-Content-Type-Options header to 'nosniff' for all web pages.\\nIf possible, ensure that the end user uses a standards-compliant and modern web browser that does not perform MIME-sniffing at all, or that can be directed by the web application/web server to not perform MIME-sniffing.\",\n",
       "  'alert': 'X-Content-Type-Options Header Missing',\n",
       "  'param': 'X-Content-Type-Options',\n",
       "  'attack': '',\n",
       "  'name': 'X-Content-Type-Options Header Missing',\n",
       "  'risk': 'Low',\n",
       "  'id': '1'}]"
      ]
     },
     "execution_count": 9,
     "metadata": {},
     "output_type": "execute_result"
    }
   ],
   "source": [
    "# get an existing list of vulnerabilities\n",
    "zap.core.alerts(baseurl=target_site)[:2]\n",
    "#fetch upto 2 results (to fit on screen). You can remove the \"[:2]\" to fetch all results"
   ]
  },
  {
   "cell_type": "markdown",
   "metadata": {},
   "source": [
    "#### Customizing Scan Policy\n",
    "\n",
    "One of the things you might have noticed with DAST Scanning, is that with fully-enabled scan policies, it takes a significantly long time to perform the scan. Let's create a lightweight scan policy through ZAP's API. This is a new API endpoint in ZAP 2.7.0"
   ]
  },
  {
   "cell_type": "code",
   "execution_count": 11,
   "metadata": {},
   "outputs": [
    {
     "name": "stdout",
     "output_type": "stream",
     "text": [
      "[ * ] Light policy has been added successfully\n"
     ]
    }
   ],
   "source": [
    "#creating a new scan policy with attack threshold and attack strength\n",
    "light = zap.ascan.add_scan_policy('Light', alertthreshold='Low', attackstrength='Low')\n",
    "print('[ * ] Light policy has been added successfully')"
   ]
  },
  {
   "cell_type": "markdown",
   "metadata": {},
   "source": [
    "If everything has gone correctly, a new scan policy should have been created with the title \"Light\". Let's fetch all the scan policies in our ZAP instance"
   ]
  },
  {
   "cell_type": "code",
   "execution_count": 12,
   "metadata": {},
   "outputs": [
    {
     "data": {
      "text/plain": [
       "['Default Policy', 'Light']"
      ]
     },
     "execution_count": 12,
     "metadata": {},
     "output_type": "execute_result"
    }
   ],
   "source": [
    "# querying all scan policies by name\n",
    "zap.ascan.scan_policy_names"
   ]
  },
  {
   "cell_type": "markdown",
   "metadata": {},
   "source": [
    "## Let's start scanning!!\n",
    "\n",
    "If you see \"Light\" the previous cell, it means that you are set and ready to scan. Let's get started...."
   ]
  },
  {
   "cell_type": "code",
   "execution_count": 13,
   "metadata": {
    "scrolled": true
   },
   "outputs": [
    {
     "name": "stdout",
     "output_type": "stream",
     "text": [
      "active scan id: 0\n",
      "Current Status of ZAP Active Scan: 0%\n",
      "Current Status of ZAP Active Scan: 1%\n",
      "Current Status of ZAP Active Scan: 3%\n",
      "Current Status of ZAP Active Scan: 5%\n",
      "Current Status of ZAP Active Scan: 7%\n",
      "Current Status of ZAP Active Scan: 9%\n",
      "Current Status of ZAP Active Scan: 11%\n",
      "Current Status of ZAP Active Scan: 15%\n",
      "Current Status of ZAP Active Scan: 18%\n",
      "Current Status of ZAP Active Scan: 23%\n",
      "Current Status of ZAP Active Scan: 28%\n",
      "Current Status of ZAP Active Scan: 33%\n",
      "Current Status of ZAP Active Scan: 40%\n",
      "Current Status of ZAP Active Scan: 43%\n",
      "Current Status of ZAP Active Scan: 45%\n",
      "Current Status of ZAP Active Scan: 47%\n",
      "Current Status of ZAP Active Scan: 49%\n",
      "Current Status of ZAP Active Scan: 51%\n",
      "Current Status of ZAP Active Scan: 53%\n",
      "Current Status of ZAP Active Scan: 54%\n",
      "Current Status of ZAP Active Scan: 56%\n",
      "Current Status of ZAP Active Scan: 57%\n",
      "Current Status of ZAP Active Scan: 60%\n",
      "Current Status of ZAP Active Scan: 65%\n",
      "Current Status of ZAP Active Scan: 70%\n",
      "Current Status of ZAP Active Scan: 74%\n",
      "Current Status of ZAP Active Scan: 79%\n",
      "Current Status of ZAP Active Scan: 82%\n",
      "Current Status of ZAP Active Scan: 85%\n",
      "Current Status of ZAP Active Scan: 87%\n",
      "Current Status of ZAP Active Scan: 89%\n",
      "Current Status of ZAP Active Scan: 92%\n",
      "Current Status of ZAP Active Scan: 94%\n",
      "Current Status of ZAP Active Scan: 94%\n",
      "Current Status of ZAP Active Scan: 95%\n",
      "Current Status of ZAP Active Scan: 95%\n",
      "Current Status of ZAP Active Scan: 95%\n",
      "Current Status of ZAP Active Scan: 96%\n",
      "Current Status of ZAP Active Scan: 96%\n",
      "Current Status of ZAP Active Scan: 97%\n",
      "Current Status of ZAP Active Scan: 97%\n",
      "Current Status of ZAP Active Scan: 97%\n",
      "Current Status of ZAP Active Scan: 98%\n",
      "Current Status of ZAP Active Scan: 98%\n",
      "Current Status of ZAP Active Scan: 99%\n",
      "Current Status of ZAP Active Scan: 99%\n",
      "Current Status of ZAP Active Scan: 99%\n"
     ]
    }
   ],
   "source": [
    "# using ZAP's ascan object to start scanning, with the \"Light\" Policy. If you don't specify the policy\n",
    "# ZAP Automatically uses the \"Default\" policy\n",
    "active_scan_id = zap.ascan.scan(target_site, scanpolicyname='Light')\n",
    "\n",
    "print(\"active scan id: {0}\".format(active_scan_id))\n",
    "\n",
    "#now we can start monitoring the spider's status\n",
    "while int(zap.ascan.status(active_scan_id)) < 100:\n",
    "    print(\"Current Status of ZAP Active Scan: {0}%\".format(zap.ascan.status(active_scan_id)))\n",
    "    time.sleep(10)\n",
    "print(\"Current Status of ZAP Active Scan: {0}%\".format(100))"
   ]
  },
  {
   "cell_type": "markdown",
   "metadata": {},
   "source": [
    "### Pulling results to report\n",
    "\n",
    "The next thing that we need after scanning is to pull results to generate some reports. ZAP provides an XML and HTML Report by default. However, with the \"Export Report\" plugin, ZAP allows you to export the XHTML, PDF and JSON variants of the report, replete with HTTP Requests, Responses and detailed information about the vulnerability. This can also be customized during the fetch, and done through the API\n",
    "\n",
    "** Note: ZAP's Export Report functionality cannot be used through it's Python API. We will be using it's REST API for this API endpoint. Please refer to https://github.com/zaproxy/zap-extensions/wiki/HelpAddonsExportreportExportreport for additional details about ZAP's Export Report**"
   ]
  },
  {
   "cell_type": "code",
   "execution_count": 14,
   "metadata": {},
   "outputs": [
    {
     "name": "stdout",
     "output_type": "stream",
     "text": [
      "b'{\"Result\":\"OK\"}'\n"
     ]
    }
   ],
   "source": [
    "import requests #since we will be making a REST API Call\n",
    "\n",
    "url = 'http://localhost:8090/JSON/exportreport/action/generate/'\n",
    "export_path = os.getcwd() + '/testfire.json'\n",
    "extension = 'json'\n",
    "source_info = 'Vulnerability Report for Demo Testfire;Abhay Bhargav;TestfireTeam;January 8 2018;January 8 2018;v1;v1;Testfire Scan Report'\n",
    "alert_severity = 't;t;t;t' #High;Medium;Low;Info\n",
    "alert_details = 't;t;t;t;t;t;f;f;f;f' #CWEID;#WASCID;Description;Other Info;Solution;Reference;Request Header;Response Header;Request Body;Response Body\n",
    "data = {'absolutePath': export_path, 'fileExtension': extension, 'sourceDetails': source_info, 'alertSeverity': alert_severity, 'alertDetails': alert_details}\n",
    "\n",
    "r = requests.post(url, data = data)\n",
    "print(r.content)"
   ]
  },
  {
   "cell_type": "markdown",
   "metadata": {},
   "source": [
    "If all's well, then you should go back to the directory in which you have this Notebook and find that there's a file called `testfire.json`. If you open `testfire.json` with a text editor or browser, you should see a detailed JSON report with the params that we have provided. "
   ]
  },
  {
   "cell_type": "markdown",
   "metadata": {},
   "source": [
    "This is great! We have now run some tests with ZAP with unauthenticated scans. But that's not necessarily the best thing. Most of us don't need to run ZAP this way. We ideally want to run \"authenticated scans\" for higher coverage of our security testing efforts. So...\n",
    "\n",
    "### Let's run an authenticated scan against a webservice. \n",
    "- To do this correctly, we are going to stop ZAP first\n",
    "- Start it again\n",
    "- Run the parameterization\n",
    "- Run the scan\n",
    "\n",
    "#### Stop ZAP"
   ]
  },
  {
   "cell_type": "code",
   "execution_count": 15,
   "metadata": {},
   "outputs": [
    {
     "data": {
      "text/plain": [
       "'OK'"
      ]
     },
     "execution_count": 15,
     "metadata": {},
     "output_type": "execute_result"
    }
   ],
   "source": [
    "zap.core.shutdown() #shuts down the ZAP Scanner"
   ]
  },
  {
   "cell_type": "markdown",
   "metadata": {},
   "source": [
    "#### Start ZAP Again\n",
    "If everything is has gone well with the above process. You can start ZAP like you did before. "
   ]
  },
  {
   "cell_type": "code",
   "execution_count": 17,
   "metadata": {},
   "outputs": [
    {
     "name": "stdout",
     "output_type": "stream",
     "text": [
      "[ * ] ZAP is initiated at port 8090\n"
     ]
    }
   ],
   "source": [
    "zap_process = subprocess.Popen(headless_command.split(' '), stdout = open(os.devnull, 'w'))\n",
    "time.sleep(30)\n",
    "print('[ * ] ZAP is initiated at port 8090')"
   ]
  },
  {
   "cell_type": "markdown",
   "metadata": {},
   "source": [
    "#### Running Parameterization\n",
    "\n",
    "##### Starting Vulnerable App Docker Container\n",
    "You can run completely automated authenticated scans in the following ways\n",
    "\n",
    "Using, Selenium: \n",
    "![ZAP with Selenium](images/zap_selenium.jpg)\n",
    "\n",
    "With ZAP \"Pre-Canned\" Sessions\n",
    "![ZAP Sessions](images/zap_session.jpg)\n",
    "\n",
    "With ZAP's Zest Scripts\n",
    "![ZAP Zest Scripts](images/zap_zest.png)\n",
    "\n",
    "with Selenium, in case you are testing a browser-based web application, or in this case, a simple HTTP Client, since we are testing a web service. The most important thing to remember is that you need to proxy all the traffic through OWASP ZAP, so ZAP can use this as an input to perform the active scan with authentication. \n",
    "\n",
    "We will be testing a Flask based web service that requires a JSON Web Token (JWT) for Authenticated Operations\n",
    "\n",
    "Let's open up a Terminal Window and start our Vulnerable Flask Application Docker Container with this command: \n",
    "\n",
    "`docker run -p 5050:5050 abhaybhargav/vul_flask`\n",
    "\n",
    "If all goes well, you should see something like this: \n",
    "\n",
    "```\n",
    "/usr/local/lib/python2.7/site-packages/flask_sqlalchemy/__init__.py:839: FSADeprecationWarning: SQLALCHEMY_TRACK_MODIFICATIONS adds significant overhead and will be disabled by default in the future.  Set it to True or False to suppress this warning.\n",
    "  'SQLALCHEMY_TRACK_MODIFICATIONS adds significant overhead and '\n",
    "```"
   ]
  },
  {
   "cell_type": "markdown",
   "metadata": {},
   "source": [
    "##### Parameterization - Web Service\n",
    "\n",
    "Let's authenticate and perform some actions on this web Service"
   ]
  },
  {
   "cell_type": "code",
   "execution_count": 18,
   "metadata": {},
   "outputs": [
    {
     "name": "stdout",
     "output_type": "stream",
     "text": [
      "Get Customer by ID Response\n",
      "{'cc_num': '3088793192304391', 'email': 'brittanyhill@hotmail.com', 'firstname': 'Kara', 'id': 2, 'lastname': 'Kemp', 'username': 'martineznorma'}\n",
      "\n",
      "Fetch Customer POST Response\n",
      "{'cc_num': '3088793192304391', 'email': 'brittanyhill@hotmail.com', 'firstname': 'Kara', 'id': 2, 'lastname': 'Kemp', 'username': 'martineznorma'}\n",
      "\n",
      "Search Customer POST Response\n",
      "[['Elizabeth', 'Flores', 'dleon']]\n",
      "\n"
     ]
    }
   ],
   "source": [
    "import requests\n",
    "\n",
    "target_url = 'http://localhost:5050'\n",
    "proxies = {\n",
    "  'http': 'http://127.0.0.1:8090',\n",
    "  'https': 'http://127.0.0.1:8090',\n",
    "} #passing all traffic through OWASP ZAP\n",
    "\n",
    "auth_dict = {'username': 'admin', 'password': 'admin123'}\n",
    "\n",
    "login = requests.post(target_url + '/login', proxies = proxies, json=auth_dict)\n",
    "\n",
    "if login.status_code == 200: #if login is successful\n",
    "    auth_token = login.headers['Authorization']\n",
    "    auth_header = {\"Authorization\": auth_token}\n",
    "    #now lets run some operations\n",
    "    # GET Customer by ID\n",
    "    \n",
    "    get_cust_id = requests.get(target_url + '/get/2', proxies = proxies, headers = auth_header)\n",
    "    if get_cust_id.status_code == 200:\n",
    "        print(\"Get Customer by ID Response\")\n",
    "        print(get_cust_id.json())\n",
    "        print()\n",
    "    \n",
    "    post = {'id': 2}\n",
    "    fetch_customer_post = requests.post(target_url + '/fetch/customer', json = post, proxies = proxies, headers = auth_header)\n",
    "    if fetch_customer_post.status_code == 200:\n",
    "        print(\"Fetch Customer POST Response\")\n",
    "        print(fetch_customer_post.json())\n",
    "        print()\n",
    "    \n",
    "    search = {'search': 'dleon'}\n",
    "    search_customer_username = requests.post(target_url + '/search', json = search, proxies = proxies, headers = auth_header)\n",
    "    if search_customer_username.status_code == 200:\n",
    "        print(\"Search Customer POST Response\")\n",
    "        print(search_customer_username.json())\n",
    "        print()\n",
    "    "
   ]
  },
  {
   "cell_type": "markdown",
   "metadata": {},
   "source": [
    "Now that we have authenticated to the app. Let's run an Active Scan against the authenticated context of the app"
   ]
  },
  {
   "cell_type": "code",
   "execution_count": 19,
   "metadata": {},
   "outputs": [
    {
     "name": "stdout",
     "output_type": "stream",
     "text": [
      "active scan id: 0\n",
      "Current Status of ZAP Active Scan: 0%\n",
      "Current Status of ZAP Active Scan: 93%\n",
      "Current Status of ZAP Active Scan: 99%\n",
      "Current Status of ZAP Active Scan: 100%\n"
     ]
    }
   ],
   "source": [
    "# using ZAP's ascan object to start scanning, with the \"Light\" Policy. If you don't specify the policy\n",
    "# ZAP Automatically uses the \"Default\" policy\n",
    "active_scan_id = zap.ascan.scan(target_url, scanpolicyname='Light')\n",
    "\n",
    "print(\"active scan id: {0}\".format(active_scan_id))\n",
    "\n",
    "#now we can start monitoring the spider's status\n",
    "while int(zap.ascan.status(active_scan_id)) < 100:\n",
    "    print(\"Current Status of ZAP Active Scan: {0}%\".format(zap.ascan.status(active_scan_id)))\n",
    "    time.sleep(10)\n",
    "print(\"Current Status of ZAP Active Scan: {0}%\".format(100))    "
   ]
  },
  {
   "cell_type": "markdown",
   "metadata": {},
   "source": [
    "### Some Observations\n",
    "\n",
    "Clearly, you will see that ZAP found some security issues. However, if you look at the source code of our vulnerable Flask Application, you will realize that we might have missed some key vulnerabilities here: \n",
    "\n",
    "Source Code: https://github.com/we45/Vulnerable-Flask-App\n",
    "\n",
    "This brings us to the some important questions about scaling security testing within our organization. \n",
    "\n",
    "- Yes, there will always be vulnerabilities that DAST tools cannot find. \n",
    "- These tools are limited by standard rules that are meant to identify vulnerabilities\n",
    "\n",
    "So, with this....\n",
    "\n",
    "- Can we create customized scripts for vulnerabilities that we might find in our Stack? \n",
    "    - Think like a DAST Linter for Apps\n",
    "- Can we make it scale across our population of apps?"
   ]
  },
  {
   "cell_type": "markdown",
   "metadata": {},
   "source": [
    "## Introducing ZAP's Scripting Framework\n",
    "\n",
    "#### Supported Platforms\n",
    "- Python (Jython)\n",
    "- Ruby\n",
    "- Oracle Nashorn ECMAScript\n",
    "- Zest Scripts\n",
    "\n",
    "#### Types of Scripts\n",
    "- Active Rules => Scripts invoked during Active Scan\n",
    "- Authentication Scripts => Scripts invoked to facilitate authentication for a Context\n",
    "- Fuzzer Processors => Scripts invoked after Fuzzers are run with ZAP\n",
    "- HTTPSender => Scripts invoked against every request/response received by ZAP\n",
    "- Proxy => Runs inline and acts on all requests and responses\n",
    "- Targeted Rules => Invoked on specific urls or on manual start only\n",
    "- Standalone => Invoked manually\n",
    "- Passive Rules => Passive Scanning Rules\n",
    "\n",
    "#### Running Python Scripts with ZAP\n",
    "- ZAP supports scripts written in Jython\n",
    "- Python on Java JVM\n",
    "- Not fully compatible with python libraries\n",
    "- some limitations on networking and i/o libraries in python\n",
    "- Works when “Python Scripting” add-on is installed in OWASP ZAP. \n",
    "- Third Party Python Libs can be linked when refer to the jython site-packages directory"
   ]
  },
  {
   "cell_type": "markdown",
   "metadata": {},
   "source": [
    "### Useful Modules - ZAP Scripting with Python (Jython)\n",
    "\n",
    "```python\n",
    "msg\n",
    "    #the message object that is acted upon to parse/manipulate\n",
    "\n",
    "msg.getRequestHeader()\n",
    "    #Request Header Object\n",
    "\n",
    "msg.getRequestHeader().getURI()\n",
    "    #fetches the URI from the request header\n",
    "\n",
    "msg.getRequestBody()\n",
    "    #Fetches the request body from the request\n",
    "\n",
    "msg.getResponseBody()\n",
    "    #Fetches the request body from the request\n",
    "\n",
    "msg.setRequestBody()\n",
    "    #Sets a different request body from the one in the original request\n",
    "```"
   ]
  },
  {
   "cell_type": "markdown",
   "metadata": {},
   "source": [
    "### Let's start with something simple...\n",
    "\n",
    "Let's just quickly write a proxy script for ZAP and run it. If you are not too comfortable with the code, you can just copy-paste it. \n",
    "\n",
    "Go to ZAP GUI and click on the Scripts \"+\" Button: \n",
    "![Scripts Button](images/script_button.jpg)\n",
    "\n",
    "Now, click on \"Scripts\". You should see this screen in the side-panel\n",
    "![Scripts Panel](images/script_types.jpg)\n",
    "\n",
    "Now, right click on \"Proxy\" and click on \"New Script\". Fill in the options as shown below:\n",
    "![Scripts Panel](images/script_proxy_options.jpg)\n",
    "\n",
    "Now, you can copy the code from below and paste it in the script code panel\n",
    "\n",
    "```python\n",
    "\"\"\"\n",
    "The proxyRequest and proxyResponse functions will be called for all requests  and responses made via ZAP, \n",
    "excluding some of the automated tools\n",
    "If they return 'false' then the corresponding request / response will be dropped. \n",
    "You can use msg.setForceIntercept(true) in either method to force a break point\n",
    "\n",
    "Note that new proxy scripts will initially be disabled\n",
    "Right click the script in the Scripts tree and select \"enable\"  \n",
    "\"\"\"\n",
    "\n",
    "def proxyRequest(msg):\n",
    "  # Let's add a Custom Header to every request\n",
    "  msg.getRequestHeader().setHeader('My-Custom-Header', \"ZAPisAwesome\");\n",
    "  return True;\n",
    "\n",
    "def proxyResponse(msg):\n",
    "  return True;\n",
    "\n",
    "```\n",
    "\n",
    "Now you can save the script by right clicking on the script in the Script Panel and clicking on \"Save\"\n",
    "![save script](save_script.jpg)\n",
    "\n",
    "to check if this is working, just run the parameterization from above, once again...\n",
    "![Custom Proxy Proof of Life](custom_proxy_poc.jpg)"
   ]
  },
  {
   "cell_type": "markdown",
   "metadata": {},
   "source": [
    "### Alright, That was cute...So what can it really do?\n",
    "\n",
    "Let's write some active scan rules to identify some real world vulnerabilities.\n",
    "\n",
    "#### 1. The `none` signed JWT\n",
    "Did you know that JWTs could be signed with the algorithm `none`, essentially meaning that they werent signed at all?? Crazy right? We've seen some implementations in the real world, where JWTs have been signed with the none algo, which means that an attacker can literally send any token he/she wants and get access to an authenticated view of the application. \n",
    "\n",
    "Here's how you setup a custom script for \"Active Scan\" rules. \n",
    "- Right click on \"Active Scan\" and select the \"New Script\" option\n",
    "- Provide script options as follows: \n",
    "![None JWT Token](images/none_jwt_options.jpg)\n",
    "\n",
    "You can copy the script from below and paste into the code panel\n",
    "\n",
    "```python\n",
    "alert_name = \"Application is configured to accept 'none' signed JSON Web Tokens\"\n",
    "alert_desc = \"Attacker can create fake tokens to authenticate to the application, using the 'none' signature. The application seems to be authenticate the user based on these 'none' signed tokens. Attackers can use this to bypass authentication and gain deeper access to the application.\"\n",
    "alert_cwe = 287\n",
    "alert_wasc = 1\n",
    "alert_soln = 'Ensure that JSON Web Tokens are decoded and verified before authenticating and authorizing the user to perform actions on the application'\n",
    "alert_risk = 3\n",
    "alert_confidence = 1\n",
    "\n",
    "dummy_jwt = 'eyJhbGciOiJub25lIiwidHlwIjoiSldUIn0.eyJpc3MiOiJodHRwczovL2p3dC1pZHAuZXhhbXBsZS5jb20iLCJzdWIiOiJtYWlsdG86bWlrZUBleGFtcGxlLmNvbSIsIm5iZiI6MTQ5OTg2MDkwNiwiZXhwIjoxNDk5ODY0NTA2LCJpYXQiOjE0OTk4NjA5MDYsImp0aSI6ImlkMTIzNDU2IiwidHlwIjoiaHR0cHM6Ly9leGFtcGxlLmNvbS9yZWdpc3RlciJ9.'\n",
    "\n",
    "def scanNode(sas, msg):\n",
    "    orig_msg = msg\n",
    "    msg = orig_msg.cloneRequest()\n",
    "    jwt_segments = dummy_jwt.split('.')\n",
    "    header = jwt_segments[0]\n",
    "    payload = jwt_segments[1]\n",
    "    signature = jwt_segments[2]\n",
    "    if orig_msg.getRequestHeader().getHeader('Authorization'):\n",
    "        print \"JWT: \", header, payload, signature\n",
    "        msg.getRequestHeader().setHeader('Authorization', dummy_jwt)\n",
    "        sas.sendAndReceive(msg, False, False)\n",
    "        status_code = msg.getResponseHeader().getStatusCode()\n",
    "        if status_code == 200:\n",
    "            sas.raiseAlert(alert_risk, alert_confidence, alert_name, alert_desc,\n",
    "                           msg.getRequestHeader().getURI().toString(), dummy_jwt, '', '',\n",
    "                           alert_soln, '',\n",
    "                           alert_cwe, alert_wasc, msg)\n",
    "\n",
    "\n",
    "\n",
    "\n",
    "def scan(sas, msg, param, value):\n",
    "    pass\n",
    "```\n",
    "\n",
    "Now, save script as you did before. Let's run an active scan!\n",
    "\n",
    "If everything went well, ZAP should have identified another flaw. Your alert screen should look like this:\n",
    "![zap alert](images/none_jwt_vul.jpg)"
   ]
  },
  {
   "cell_type": "markdown",
   "metadata": {},
   "source": [
    "#### Wow! Now that it worked, let's try another script. \n",
    "\n",
    "Our Application uses the Jinja2 Templating System to render templates to the presentation layer. There may be a possibility of performing a Server-Side Template Injection against the app. Let's check it out with another OWASP ZAP Active Scan Rule\n",
    "\n",
    "You can use the following options to setup the script and then \"Save\" it. \n",
    "\n",
    "You can copy-paste the following script into the code panel\n",
    "\n",
    "```python\n",
    "alert_name = \"Jinja2 Server Side Template Injection\"\n",
    "alert_desc = \"Server-Side Template Injection, where adversary can manipulate template variables. \"\n",
    "alert_cwe = 90\n",
    "alert_wasc = 1\n",
    "alert_soln = 'Jinja2 Server Side Template Injection'\n",
    "alert_risk = 3\n",
    "alert_confidence = 1\n",
    "\n",
    "payload = '{{config.items()}}'\n",
    "\n",
    "def scanNode(sas, msg):\n",
    "    orig_msg = msg\n",
    "    msg = orig_msg.cloneRequest()\n",
    "    split_uri = str(msg.getRequestHeader().getURI()).split('/')\n",
    "    if split_uri[:-1] is not None:\n",
    "        mangle_var = split_uri[-1]\n",
    "        del split_uri[-1]\n",
    "        split_uri.append(payload)\n",
    "        join_url = '/%s' % payload\n",
    "        msg.getRequestHeader().getURI().setPath(join_url)\n",
    "        print msg.getRequestHeader().getURI()\n",
    "        sas.sendAndReceive(msg)\n",
    "        print msg.getResponseBody()\n",
    "        if 'JSON_AS_ASCII' in str(msg.getResponseBody()):\n",
    "            sas.raiseAlert(alert_risk, alert_confidence, alert_name, alert_desc,\n",
    "                           msg.getRequestHeader().getURI().toString(), payload, '', '',\n",
    "                           alert_soln, '',\n",
    "                           alert_cwe, alert_wasc, msg)\n",
    "\n",
    "\n",
    "\n",
    "\n",
    "\n",
    "def scan(sas, msg, param, value):\n",
    "    pass\n",
    "```\n",
    "\n",
    "Save it. Run another active scan with the \"Light\" Policy\n",
    "\n",
    "If all's well, you should see a new vulnerability in your Alerts Panel with details of the vulnerability. \n",
    "\n",
    "![Server Side Template Injection](images/ssti_vul.jpg)"
   ]
  },
  {
   "cell_type": "code",
   "execution_count": null,
   "metadata": {},
   "outputs": [],
   "source": []
  }
 ],
 "metadata": {
  "kernelspec": {
   "display_name": "Python 3",
   "language": "python",
   "name": "python3"
  },
  "language_info": {
   "codemirror_mode": {
    "name": "ipython",
    "version": 3
   },
   "file_extension": ".py",
   "mimetype": "text/x-python",
   "name": "python",
   "nbconvert_exporter": "python",
   "pygments_lexer": "ipython3",
   "version": "3.6.7"
  }
 },
 "nbformat": 4,
 "nbformat_minor": 2
}
